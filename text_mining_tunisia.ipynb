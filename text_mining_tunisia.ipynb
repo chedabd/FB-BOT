{
  "nbformat": 4,
  "nbformat_minor": 0,
  "metadata": {
    "colab": {
      "name": "text-mining-tunisia",
      "provenance": [],
      "collapsed_sections": [],
      "mount_file_id": "1FhjyY7pL1RP2LI-0ENbHJLK45Vpc80lN",
      "authorship_tag": "ABX9TyNzoZlWhYVka9sjH/t0izP9",
      "include_colab_link": true
    },
    "kernelspec": {
      "display_name": "Python 3",
      "name": "python3"
    }
  },
  "cells": [
    {
      "cell_type": "markdown",
      "metadata": {
        "id": "view-in-github",
        "colab_type": "text"
      },
      "source": [
        "<a href=\"https://colab.research.google.com/github/chedabd/felix/blob/master/text_mining_tunisia.ipynb\" target=\"_parent\"><img src=\"https://colab.research.google.com/assets/colab-badge.svg\" alt=\"Open In Colab\"/></a>"
      ]
    },
    {
      "cell_type": "code",
      "metadata": {
        "colab": {
          "base_uri": "https://localhost:8080/"
        },
        "id": "aAjIrtGNriWa",
        "outputId": "43f2179a-235f-439e-fa0a-6618099f421b"
      },
      "source": [
        "pip install --upgrade pynytimes"
      ],
      "execution_count": null,
      "outputs": [
        {
          "output_type": "stream",
          "name": "stdout",
          "text": [
            "Collecting pynytimes\n",
            "  Downloading pynytimes-0.7.0-py3-none-any.whl (13 kB)\n",
            "Collecting requests==2.26.0\n",
            "  Downloading requests-2.26.0-py2.py3-none-any.whl (62 kB)\n",
            "\u001b[K     |████████████████████████████████| 62 kB 807 kB/s \n",
            "\u001b[?25hRequirement already satisfied: urllib3 in /usr/local/lib/python3.7/dist-packages (from pynytimes) (1.24.3)\n",
            "Requirement already satisfied: idna<4,>=2.5 in /usr/local/lib/python3.7/dist-packages (from requests==2.26.0->pynytimes) (2.10)\n",
            "Requirement already satisfied: certifi>=2017.4.17 in /usr/local/lib/python3.7/dist-packages (from requests==2.26.0->pynytimes) (2021.5.30)\n",
            "Requirement already satisfied: charset-normalizer~=2.0.0 in /usr/local/lib/python3.7/dist-packages (from requests==2.26.0->pynytimes) (2.0.6)\n",
            "Installing collected packages: requests, pynytimes\n",
            "  Attempting uninstall: requests\n",
            "    Found existing installation: requests 2.23.0\n",
            "    Uninstalling requests-2.23.0:\n",
            "      Successfully uninstalled requests-2.23.0\n",
            "\u001b[31mERROR: pip's dependency resolver does not currently take into account all the packages that are installed. This behaviour is the source of the following dependency conflicts.\n",
            "google-colab 1.0.0 requires requests~=2.23.0, but you have requests 2.26.0 which is incompatible.\n",
            "datascience 0.10.6 requires folium==0.2.1, but you have folium 0.8.3 which is incompatible.\u001b[0m\n",
            "Successfully installed pynytimes-0.7.0 requests-2.26.0\n"
          ]
        }
      ]
    },
    {
      "cell_type": "code",
      "metadata": {
        "colab": {
          "base_uri": "https://localhost:8080/"
        },
        "id": "qXC66FdJrTe7",
        "outputId": "fe855832-97b0-4ce1-ccb6-421099f9359e"
      },
      "source": [
        "#Importation des librairies\n",
        "import numpy as np\n",
        "import pandas as pd\n",
        "import time\n",
        "import datetime\n",
        "from pynytimes import NYTAPI\n",
        "import re\n",
        "from nltk import word_tokenize\n",
        "from nltk.stem.porter import PorterStemmer\n",
        "from nltk.corpus import stopwords\n",
        "from nltk import FreqDist\n",
        "import requests\n",
        "from bs4 import BeautifulSoup\n",
        "import nltk\n",
        "nltk.download('punkt')\n",
        "nltk.download('stopwords')"
      ],
      "execution_count": null,
      "outputs": [
        {
          "output_type": "stream",
          "name": "stdout",
          "text": [
            "[nltk_data] Downloading package punkt to /root/nltk_data...\n",
            "[nltk_data]   Package punkt is already up-to-date!\n",
            "[nltk_data] Downloading package stopwords to /root/nltk_data...\n",
            "[nltk_data]   Package stopwords is already up-to-date!\n"
          ]
        },
        {
          "output_type": "execute_result",
          "data": {
            "text/plain": [
              "True"
            ]
          },
          "metadata": {},
          "execution_count": 3
        }
      ]
    },
    {
      "cell_type": "code",
      "metadata": {
        "id": "jVpKIWdVrrp7"
      },
      "source": [
        "#Api importation du token de l'API du new york times voir le compte de chedly\n",
        "nyt = NYTAPI('eyuGOeXN4X7XauDTUNQ4eUtIRssmpCfi')"
      ],
      "execution_count": null,
      "outputs": []
    },
    {
      "cell_type": "code",
      "metadata": {
        "id": "60yncLhEaKoH"
      },
      "source": [
        "#Parametrage des requetes\n",
        "start_year = 2002\n",
        "end_year = 2021\n",
        "news_desk = \"Foreign\" #Une seule entrée\n",
        "country = \"Tunisia\"\n",
        "dictionary = \"Tunisia, Terrorist, terrorists, violence, attack, army, bombs, Al-Qaida, extremism, Daech, ISIS\" "
      ],
      "execution_count": null,
      "outputs": []
    },
    {
      "cell_type": "code",
      "metadata": {
        "id": "DLOIHK1L35cY"
      },
      "source": [
        "articles_df = pd.DataFrame()"
      ],
      "execution_count": null,
      "outputs": []
    },
    {
      "cell_type": "code",
      "metadata": {
        "id": "80rusXRrr6S7",
        "colab": {
          "base_uri": "https://localhost:8080/"
        },
        "outputId": "43a61cc3-1607-4df7-9a5b-ebd322a9b0f8"
      },
      "source": [
        "articles = nyt.article_search(\n",
        "    query=\"Tunis,Tunisia \",\n",
        "    results =2000,\n",
        "    dates = {\n",
        "        \"begin\": datetime.datetime(start_year, 1, 31),\n",
        "        \"end\": datetime.datetime(end_year, 12, 31)\n",
        "    },\n",
        "    options = {\n",
        "        \"sort\": \"oldest\",\n",
        "        \"sources\": [\n",
        "            \"New York Times\",\n",
        "            \"AP\",\n",
        "            \"Reuters\",\n",
        "            \"International Herald Tribune\"\n",
        "        ],\n",
        "          \"news_desk\": [\n",
        "            (news_desk)\n",
        "          ]\n",
        "    }\n",
        ")"
      ],
      "execution_count": null,
      "outputs": [
        {
          "output_type": "stream",
          "name": "stderr",
          "text": [
            "/usr/local/lib/python3.7/dist-packages/pynytimes/api.py:764: UserWarning: Asking for a lot of results, because of rate limits it can take a while.\n",
            "  \"Asking for a lot of results, because of rate limits it can take a while.\"\n"
          ]
        }
      ]
    },
    {
      "cell_type": "code",
      "metadata": {
        "id": "zeLCn5O6sBbb"
      },
      "source": [
        "#Fonction pour formater le tableau\n",
        "def parse_articles(articles):\n",
        "    \n",
        "    news = []\n",
        "    \n",
        "    for i in articles:\n",
        "        \n",
        "        dic = {}\n",
        "        dic['date'] = i['pub_date']  \n",
        "        dic['atype'] = i['news_desk']\n",
        "        dic['url'] = i['web_url']\n",
        "        dic['word_count'] = int(i['word_count'])\n",
        "        news.append(dic)\n",
        "        \n",
        "    return news"
      ],
      "execution_count": 8,
      "outputs": []
    },
    {
      "cell_type": "code",
      "metadata": {
        "id": "U608NlJQsIkD"
      },
      "source": [
        "articles = parse_articles(articles)"
      ],
      "execution_count": 9,
      "outputs": []
    },
    {
      "cell_type": "code",
      "metadata": {
        "colab": {
          "base_uri": "https://localhost:8080/",
          "height": 204
        },
        "id": "SYkS-a5osTZS",
        "outputId": "1ffac3eb-d113-431e-c9b2-ddbdf139c3fb"
      },
      "source": [
        "all_articles = []\n",
        "all_articles = all_articles + articles\n",
        "articles_df = pd.DataFrame(all_articles)\n",
        "articles_df.tail()"
      ],
      "execution_count": 10,
      "outputs": [
        {
          "output_type": "execute_result",
          "data": {
            "text/html": [
              "<div>\n",
              "<style scoped>\n",
              "    .dataframe tbody tr th:only-of-type {\n",
              "        vertical-align: middle;\n",
              "    }\n",
              "\n",
              "    .dataframe tbody tr th {\n",
              "        vertical-align: top;\n",
              "    }\n",
              "\n",
              "    .dataframe thead th {\n",
              "        text-align: right;\n",
              "    }\n",
              "</style>\n",
              "<table border=\"1\" class=\"dataframe\">\n",
              "  <thead>\n",
              "    <tr style=\"text-align: right;\">\n",
              "      <th></th>\n",
              "      <th>date</th>\n",
              "      <th>atype</th>\n",
              "      <th>url</th>\n",
              "      <th>word_count</th>\n",
              "    </tr>\n",
              "  </thead>\n",
              "  <tbody>\n",
              "    <tr>\n",
              "      <th>294</th>\n",
              "      <td>2021-08-26T16:28:47+0000</td>\n",
              "      <td>Foreign</td>\n",
              "      <td>https://www.nytimes.com/2021/08/26/world/middl...</td>\n",
              "      <td>1476</td>\n",
              "    </tr>\n",
              "    <tr>\n",
              "      <th>295</th>\n",
              "      <td>2021-09-27T12:27:40+0000</td>\n",
              "      <td>Foreign</td>\n",
              "      <td>https://www.nytimes.com/2021/09/27/world/middl...</td>\n",
              "      <td>936</td>\n",
              "    </tr>\n",
              "    <tr>\n",
              "      <th>296</th>\n",
              "      <td>2021-09-29T12:27:06+0000</td>\n",
              "      <td>Foreign</td>\n",
              "      <td>https://www.nytimes.com/2021/09/29/world/afric...</td>\n",
              "      <td>649</td>\n",
              "    </tr>\n",
              "    <tr>\n",
              "      <th>297</th>\n",
              "      <td>2021-10-10T17:47:16+0000</td>\n",
              "      <td>Foreign</td>\n",
              "      <td>https://www.nytimes.com/2021/10/10/world/middl...</td>\n",
              "      <td>1419</td>\n",
              "    </tr>\n",
              "    <tr>\n",
              "      <th>298</th>\n",
              "      <td>2021-10-17T14:27:02+0000</td>\n",
              "      <td>Foreign</td>\n",
              "      <td>https://www.nytimes.com/2021/10/17/world/middl...</td>\n",
              "      <td>1261</td>\n",
              "    </tr>\n",
              "  </tbody>\n",
              "</table>\n",
              "</div>"
            ],
            "text/plain": [
              "                         date  ... word_count\n",
              "294  2021-08-26T16:28:47+0000  ...       1476\n",
              "295  2021-09-27T12:27:40+0000  ...        936\n",
              "296  2021-09-29T12:27:06+0000  ...        649\n",
              "297  2021-10-10T17:47:16+0000  ...       1419\n",
              "298  2021-10-17T14:27:02+0000  ...       1261\n",
              "\n",
              "[5 rows x 4 columns]"
            ]
          },
          "metadata": {},
          "execution_count": 10
        }
      ]
    },
    {
      "cell_type": "code",
      "metadata": {
        "colab": {
          "base_uri": "https://localhost:8080/",
          "height": 204
        },
        "id": "KyIAyNmNsYpD",
        "outputId": "7fc834ba-b64a-4e47-df13-db19e668fb35"
      },
      "source": [
        "articles_df = articles_df.drop(articles_df[articles_df.atype != 'Foreign'].index)\n",
        "articles_df.drop('atype', axis = 1, inplace = True)\n",
        "articles_df.tail()"
      ],
      "execution_count": 11,
      "outputs": [
        {
          "output_type": "execute_result",
          "data": {
            "text/html": [
              "<div>\n",
              "<style scoped>\n",
              "    .dataframe tbody tr th:only-of-type {\n",
              "        vertical-align: middle;\n",
              "    }\n",
              "\n",
              "    .dataframe tbody tr th {\n",
              "        vertical-align: top;\n",
              "    }\n",
              "\n",
              "    .dataframe thead th {\n",
              "        text-align: right;\n",
              "    }\n",
              "</style>\n",
              "<table border=\"1\" class=\"dataframe\">\n",
              "  <thead>\n",
              "    <tr style=\"text-align: right;\">\n",
              "      <th></th>\n",
              "      <th>date</th>\n",
              "      <th>url</th>\n",
              "      <th>word_count</th>\n",
              "    </tr>\n",
              "  </thead>\n",
              "  <tbody>\n",
              "    <tr>\n",
              "      <th>294</th>\n",
              "      <td>2021-08-26T16:28:47+0000</td>\n",
              "      <td>https://www.nytimes.com/2021/08/26/world/middl...</td>\n",
              "      <td>1476</td>\n",
              "    </tr>\n",
              "    <tr>\n",
              "      <th>295</th>\n",
              "      <td>2021-09-27T12:27:40+0000</td>\n",
              "      <td>https://www.nytimes.com/2021/09/27/world/middl...</td>\n",
              "      <td>936</td>\n",
              "    </tr>\n",
              "    <tr>\n",
              "      <th>296</th>\n",
              "      <td>2021-09-29T12:27:06+0000</td>\n",
              "      <td>https://www.nytimes.com/2021/09/29/world/afric...</td>\n",
              "      <td>649</td>\n",
              "    </tr>\n",
              "    <tr>\n",
              "      <th>297</th>\n",
              "      <td>2021-10-10T17:47:16+0000</td>\n",
              "      <td>https://www.nytimes.com/2021/10/10/world/middl...</td>\n",
              "      <td>1419</td>\n",
              "    </tr>\n",
              "    <tr>\n",
              "      <th>298</th>\n",
              "      <td>2021-10-17T14:27:02+0000</td>\n",
              "      <td>https://www.nytimes.com/2021/10/17/world/middl...</td>\n",
              "      <td>1261</td>\n",
              "    </tr>\n",
              "  </tbody>\n",
              "</table>\n",
              "</div>"
            ],
            "text/plain": [
              "                         date  ... word_count\n",
              "294  2021-08-26T16:28:47+0000  ...       1476\n",
              "295  2021-09-27T12:27:40+0000  ...        936\n",
              "296  2021-09-29T12:27:06+0000  ...        649\n",
              "297  2021-10-10T17:47:16+0000  ...       1419\n",
              "298  2021-10-17T14:27:02+0000  ...       1261\n",
              "\n",
              "[5 rows x 3 columns]"
            ]
          },
          "metadata": {},
          "execution_count": 11
        }
      ]
    },
    {
      "cell_type": "code",
      "metadata": {
        "id": "uCf8ZG5NsgI7",
        "colab": {
          "base_uri": "https://localhost:8080/",
          "height": 204
        },
        "outputId": "6cd6ff2a-0a37-43b6-db25-2443432ca19d"
      },
      "source": [
        "#Retrait des articles vides\n",
        "articles_df = articles_df[articles_df.word_count != 0]\n",
        "articles_df = articles_df.reset_index(drop = True)\n",
        "articles_df.tail()"
      ],
      "execution_count": 12,
      "outputs": [
        {
          "output_type": "execute_result",
          "data": {
            "text/html": [
              "<div>\n",
              "<style scoped>\n",
              "    .dataframe tbody tr th:only-of-type {\n",
              "        vertical-align: middle;\n",
              "    }\n",
              "\n",
              "    .dataframe tbody tr th {\n",
              "        vertical-align: top;\n",
              "    }\n",
              "\n",
              "    .dataframe thead th {\n",
              "        text-align: right;\n",
              "    }\n",
              "</style>\n",
              "<table border=\"1\" class=\"dataframe\">\n",
              "  <thead>\n",
              "    <tr style=\"text-align: right;\">\n",
              "      <th></th>\n",
              "      <th>date</th>\n",
              "      <th>url</th>\n",
              "      <th>word_count</th>\n",
              "    </tr>\n",
              "  </thead>\n",
              "  <tbody>\n",
              "    <tr>\n",
              "      <th>291</th>\n",
              "      <td>2021-08-26T16:28:47+0000</td>\n",
              "      <td>https://www.nytimes.com/2021/08/26/world/middl...</td>\n",
              "      <td>1476</td>\n",
              "    </tr>\n",
              "    <tr>\n",
              "      <th>292</th>\n",
              "      <td>2021-09-27T12:27:40+0000</td>\n",
              "      <td>https://www.nytimes.com/2021/09/27/world/middl...</td>\n",
              "      <td>936</td>\n",
              "    </tr>\n",
              "    <tr>\n",
              "      <th>293</th>\n",
              "      <td>2021-09-29T12:27:06+0000</td>\n",
              "      <td>https://www.nytimes.com/2021/09/29/world/afric...</td>\n",
              "      <td>649</td>\n",
              "    </tr>\n",
              "    <tr>\n",
              "      <th>294</th>\n",
              "      <td>2021-10-10T17:47:16+0000</td>\n",
              "      <td>https://www.nytimes.com/2021/10/10/world/middl...</td>\n",
              "      <td>1419</td>\n",
              "    </tr>\n",
              "    <tr>\n",
              "      <th>295</th>\n",
              "      <td>2021-10-17T14:27:02+0000</td>\n",
              "      <td>https://www.nytimes.com/2021/10/17/world/middl...</td>\n",
              "      <td>1261</td>\n",
              "    </tr>\n",
              "  </tbody>\n",
              "</table>\n",
              "</div>"
            ],
            "text/plain": [
              "                         date  ... word_count\n",
              "291  2021-08-26T16:28:47+0000  ...       1476\n",
              "292  2021-09-27T12:27:40+0000  ...        936\n",
              "293  2021-09-29T12:27:06+0000  ...        649\n",
              "294  2021-10-10T17:47:16+0000  ...       1419\n",
              "295  2021-10-17T14:27:02+0000  ...       1261\n",
              "\n",
              "[5 rows x 3 columns]"
            ]
          },
          "metadata": {},
          "execution_count": 12
        }
      ]
    },
    {
      "cell_type": "code",
      "metadata": {
        "id": "3pkaarl5upqs"
      },
      "source": [
        "#Fonction de Scraping des articles\n",
        "def scarp_articles_text(articles_df):\n",
        "    \n",
        "    # Unable false positive warning from Pandas dataframe manipulation\n",
        "    pd.options.mode.chained_assignment = None\n",
        "    \n",
        "    articles_df['article_text'] = 'NaN'\n",
        "    session = requests.Session()\n",
        "    \n",
        "    print('Scarping articles body text...'),\n",
        "    \n",
        "    for j in range(0, len(articles_df)):\n",
        "        \n",
        "        url = articles_df['url'][j]\n",
        "        req = session.get(url)\n",
        "        soup = BeautifulSoup(req.text, 'lxml')\n",
        "\n",
        "        # Get only HTLM tags with article content\n",
        "        # Articles through 1986 are found under different p tag \n",
        "        \n",
        "        paragraph_tags = soup.find_all(\"div\", {\"class\": \"css-1fanzo5 StoryBodyCompanionColumn\"})\n",
        "        if paragraph_tags == []:\n",
        "            paragraph_tags = soup.find_all('p', itemprop = 'articleBody')\n",
        "        '''\n",
        "        paragraph_tags = soup.find_all('p')\n",
        "        if paragraph_tags == []:\n",
        "          paragraph_tags = soup.find_all('p', itemprop ='articleBody')\n",
        "        '''\n",
        "        # Put together all text from HTML p tags\n",
        "        article = ''\n",
        "        for p in paragraph_tags:\n",
        "            article = article + ' ' + p.get_text()\n",
        "\n",
        "        # Clean article replacing unicode characters\n",
        "        article = article.replace(u'\\u2018', u\"'\").replace(u'\\u2019', u\"'\").replace(u'\\u201c', u'\"').replace(u'\\u201d', u'\"')\n",
        "\n",
        "        # Copy article's content to the dataframe\n",
        "        articles_df['article_text'][j] = article\n",
        "    \n",
        "    print('Done!')\n",
        "    \n",
        "    return articles_df\n"
      ],
      "execution_count": 13,
      "outputs": []
    },
    {
      "cell_type": "code",
      "metadata": {
        "id": "qxMF6MjEuy-0",
        "colab": {
          "base_uri": "https://localhost:8080/",
          "height": 238
        },
        "outputId": "ce743826-9a07-4973-d80c-3d1b485680f4"
      },
      "source": [
        "# Get Article Text\n",
        "articles_df = scarp_articles_text(articles_df)\n",
        "articles_df.tail()"
      ],
      "execution_count": 14,
      "outputs": [
        {
          "output_type": "stream",
          "name": "stdout",
          "text": [
            "Scarping articles body text...\n",
            "Done!\n"
          ]
        },
        {
          "output_type": "execute_result",
          "data": {
            "text/html": [
              "<div>\n",
              "<style scoped>\n",
              "    .dataframe tbody tr th:only-of-type {\n",
              "        vertical-align: middle;\n",
              "    }\n",
              "\n",
              "    .dataframe tbody tr th {\n",
              "        vertical-align: top;\n",
              "    }\n",
              "\n",
              "    .dataframe thead th {\n",
              "        text-align: right;\n",
              "    }\n",
              "</style>\n",
              "<table border=\"1\" class=\"dataframe\">\n",
              "  <thead>\n",
              "    <tr style=\"text-align: right;\">\n",
              "      <th></th>\n",
              "      <th>date</th>\n",
              "      <th>url</th>\n",
              "      <th>word_count</th>\n",
              "      <th>article_text</th>\n",
              "    </tr>\n",
              "  </thead>\n",
              "  <tbody>\n",
              "    <tr>\n",
              "      <th>291</th>\n",
              "      <td>2021-08-26T16:28:47+0000</td>\n",
              "      <td>https://www.nytimes.com/2021/08/26/world/middl...</td>\n",
              "      <td>1476</td>\n",
              "      <td></td>\n",
              "    </tr>\n",
              "    <tr>\n",
              "      <th>292</th>\n",
              "      <td>2021-09-27T12:27:40+0000</td>\n",
              "      <td>https://www.nytimes.com/2021/09/27/world/middl...</td>\n",
              "      <td>936</td>\n",
              "      <td></td>\n",
              "    </tr>\n",
              "    <tr>\n",
              "      <th>293</th>\n",
              "      <td>2021-09-29T12:27:06+0000</td>\n",
              "      <td>https://www.nytimes.com/2021/09/29/world/afric...</td>\n",
              "      <td>649</td>\n",
              "      <td></td>\n",
              "    </tr>\n",
              "    <tr>\n",
              "      <th>294</th>\n",
              "      <td>2021-10-10T17:47:16+0000</td>\n",
              "      <td>https://www.nytimes.com/2021/10/10/world/middl...</td>\n",
              "      <td>1419</td>\n",
              "      <td></td>\n",
              "    </tr>\n",
              "    <tr>\n",
              "      <th>295</th>\n",
              "      <td>2021-10-17T14:27:02+0000</td>\n",
              "      <td>https://www.nytimes.com/2021/10/17/world/middl...</td>\n",
              "      <td>1261</td>\n",
              "      <td></td>\n",
              "    </tr>\n",
              "  </tbody>\n",
              "</table>\n",
              "</div>"
            ],
            "text/plain": [
              "                         date  ... article_text\n",
              "291  2021-08-26T16:28:47+0000  ...             \n",
              "292  2021-09-27T12:27:40+0000  ...             \n",
              "293  2021-09-29T12:27:06+0000  ...             \n",
              "294  2021-10-10T17:47:16+0000  ...             \n",
              "295  2021-10-17T14:27:02+0000  ...             \n",
              "\n",
              "[5 rows x 4 columns]"
            ]
          },
          "metadata": {},
          "execution_count": 14
        }
      ]
    },
    {
      "cell_type": "code",
      "metadata": {
        "id": "Gafiu5GivFVU"
      },
      "source": [
        "#Pre processing des données\n",
        "def tokenize(text):\n",
        "    \n",
        "    # Convert to lower case\n",
        "    words = map(lambda word: word.lower(), word_tokenize(text))\n",
        "    \n",
        "    # Remove stop words\n",
        "    cachedStopWords = stopwords.words(\"english\")\n",
        "    words = [word for word in words\n",
        "                  if word not in cachedStopWords]\n",
        "    \n",
        "    # Steam the words\n",
        "    tokens =(list(map(lambda token: PorterStemmer().stem(token), words)))\n",
        "    \n",
        "    # Remove non-letters \n",
        "    p = re.compile('[a-zA-Z]+')\n",
        "    \n",
        "    # Remove less than 3 length words\n",
        "    min_length = 3\n",
        "    filtered_tokens = list(filter(lambda token: p.match(token) and len(token) >= min_length, tokens))\n",
        "    \n",
        "    return filtered_tokens"
      ],
      "execution_count": 15,
      "outputs": []
    },
    {
      "cell_type": "code",
      "metadata": {
        "id": "tHR2qls2vO_a"
      },
      "source": [
        "def text_mine_articles(articles_df, bag_of_words):\n",
        "    \n",
        "    articles_df = articles_df.drop(articles_df[articles_df.word_count == 0].index) # 1991 art 21 prevensio\n",
        "    articles_df = articles_df.reset_index(drop = True)\n",
        "    \n",
        "    bag_of_words = tokenize(bag_of_words)\n",
        "    articles_df['num_occurr'] = 0\n",
        "    \n",
        "    # 'Set' to make the counting operation faster\n",
        "    set_of_words = set(bag_of_words)\n",
        "    \n",
        "    print('Text mine articles...'),\n",
        "    \n",
        "    for j in range(0, len(articles_df)):\n",
        "        \n",
        "        # Convert article body into a list of tokens\n",
        "        tokenized_article = tokenize(articles_df['article_text'][j])\n",
        "        \n",
        "        # Count occurrences of the dictionary of words\n",
        "        occurrences = [word for word in tokenized_article\n",
        "                        if word in set_of_words]\n",
        "        \n",
        "        # Copy amount of occurrences found to the dataframe\n",
        "        amount = len(occurrences)\n",
        "        articles_df['num_occurr'][j] = amount\n",
        "        \n",
        "    # Compute frequency of occurrence found in each article dividing\n",
        "    # the amount of words counted as occurrences by the amount of words in the article\n",
        "    articles_df['freq_occurr'] = articles_df['num_occurr']/articles_df['word_count']   \n",
        "   \n",
        "    print('Done!')\n",
        " \n",
        "    return articles_df"
      ],
      "execution_count": null,
      "outputs": []
    },
    {
      "cell_type": "code",
      "metadata": {
        "id": "lIMuZvN4ve3t",
        "colab": {
          "base_uri": "https://localhost:8080/",
          "height": 321
        },
        "outputId": "825937e3-2d67-4c30-debf-1a6c14741bad"
      },
      "source": [
        "# Article pre-processing and word count\n",
        "articles_df = text_mine_articles(articles_df, dictionary)\n",
        "articles_df.tail()"
      ],
      "execution_count": null,
      "outputs": [
        {
          "output_type": "stream",
          "name": "stdout",
          "text": [
            "Text mine articles...\n",
            "Done!\n"
          ]
        },
        {
          "output_type": "execute_result",
          "data": {
            "text/html": [
              "<div>\n",
              "<style scoped>\n",
              "    .dataframe tbody tr th:only-of-type {\n",
              "        vertical-align: middle;\n",
              "    }\n",
              "\n",
              "    .dataframe tbody tr th {\n",
              "        vertical-align: top;\n",
              "    }\n",
              "\n",
              "    .dataframe thead th {\n",
              "        text-align: right;\n",
              "    }\n",
              "</style>\n",
              "<table border=\"1\" class=\"dataframe\">\n",
              "  <thead>\n",
              "    <tr style=\"text-align: right;\">\n",
              "      <th></th>\n",
              "      <th>date</th>\n",
              "      <th>url</th>\n",
              "      <th>word_count</th>\n",
              "      <th>article_text</th>\n",
              "      <th>num_occurr</th>\n",
              "      <th>freq_occurr</th>\n",
              "    </tr>\n",
              "  </thead>\n",
              "  <tbody>\n",
              "    <tr>\n",
              "      <th>287</th>\n",
              "      <td>2021-07-27T22:36:55+0000</td>\n",
              "      <td>https://www.nytimes.com/2021/07/27/world/afric...</td>\n",
              "      <td>1178</td>\n",
              "      <td>TUNIS — With large gatherings banned by a pre...</td>\n",
              "      <td>9</td>\n",
              "      <td>0.007640</td>\n",
              "    </tr>\n",
              "    <tr>\n",
              "      <th>288</th>\n",
              "      <td>2021-07-28T22:12:04+0000</td>\n",
              "      <td>https://www.nytimes.com/2021/07/28/world/afric...</td>\n",
              "      <td>1164</td>\n",
              "      <td>GAZIANTEP, Turkey — In the 10 years since its...</td>\n",
              "      <td>16</td>\n",
              "      <td>0.013746</td>\n",
              "    </tr>\n",
              "    <tr>\n",
              "      <th>289</th>\n",
              "      <td>2021-08-01T11:47:32+0000</td>\n",
              "      <td>https://www.nytimes.com/2021/08/01/world/middl...</td>\n",
              "      <td>1541</td>\n",
              "      <td>TUNIS — The man who critics were warning coul...</td>\n",
              "      <td>10</td>\n",
              "      <td>0.006489</td>\n",
              "    </tr>\n",
              "    <tr>\n",
              "      <th>290</th>\n",
              "      <td>2021-08-05T13:53:39+0000</td>\n",
              "      <td>https://www.nytimes.com/2021/08/05/world/afric...</td>\n",
              "      <td>1281</td>\n",
              "      <td>TEBOURBA, Tunisia — Aroussi Mejri, a 40-year-...</td>\n",
              "      <td>11</td>\n",
              "      <td>0.008587</td>\n",
              "    </tr>\n",
              "    <tr>\n",
              "      <th>291</th>\n",
              "      <td>2021-08-26T16:28:47+0000</td>\n",
              "      <td>https://www.nytimes.com/2021/08/26/world/middl...</td>\n",
              "      <td>1476</td>\n",
              "      <td>TUNIS — Year after year, the man now accused ...</td>\n",
              "      <td>8</td>\n",
              "      <td>0.005420</td>\n",
              "    </tr>\n",
              "  </tbody>\n",
              "</table>\n",
              "</div>"
            ],
            "text/plain": [
              "                         date  ... freq_occurr\n",
              "287  2021-07-27T22:36:55+0000  ...    0.007640\n",
              "288  2021-07-28T22:12:04+0000  ...    0.013746\n",
              "289  2021-08-01T11:47:32+0000  ...    0.006489\n",
              "290  2021-08-05T13:53:39+0000  ...    0.008587\n",
              "291  2021-08-26T16:28:47+0000  ...    0.005420\n",
              "\n",
              "[5 rows x 6 columns]"
            ]
          },
          "metadata": {},
          "execution_count": 108
        }
      ]
    },
    {
      "cell_type": "code",
      "metadata": {
        "id": "IGRQWYC-r9yO"
      },
      "source": [
        "articles_df.to_excel(\"output_article 2000-2020.xlsx\")  "
      ],
      "execution_count": null,
      "outputs": []
    },
    {
      "cell_type": "code",
      "metadata": {
        "id": "F7RU9lBXbUz9"
      },
      "source": [
        "def get_monthly_results(articles_df, start_year, end_year):\n",
        "    \n",
        "    print('Arranging results monthly into a new dataframe...'),\n",
        "    \n",
        "    # Number of months in range of analysis\n",
        "    range = 12*(end_year - start_year + 1)\n",
        "    \n",
        "    # Prepare timeseries dataframe for displaying results\n",
        "    columns = ['month_freq_occurr', 'num_articles','norm_freq_occurr']\n",
        "    results_df = pd.DataFrame(columns = columns)\n",
        "    results_df['date'] = pd.date_range(str(start_year) + '-01', periods = range, freq = 'M')\n",
        "    \n",
        "    # Set date as index to move data from articles_df to results_df conviniently\n",
        "    results_df = results_df.set_index(['date'])\n",
        "    results_df = results_df.fillna(0.0) # with 0s rather than NaNs\n",
        "    \n",
        "    # Display results on a monthly basis\n",
        "    i = 0\n",
        "    while i < len(articles_df):\n",
        "        \n",
        "        # Cut day from date column\n",
        "        date = articles_df['date'][i][0:7] \n",
        "        \n",
        "        # Group numbers monthly by summing daily results\n",
        "        results_df.loc[date]['num_articles'] += 1\n",
        "        results_df.loc[date]['month_freq_occurr'] += articles_df['freq_occurr'][i]\n",
        "        \n",
        "        i += 1\n",
        "    \n",
        "    # Normalize the monthly added frequency of occurrences by the amount of articles published in that month\n",
        "    results_df['norm_freq_occurr'] = results_df['month_freq_occurr']/results_df['num_articles']\n",
        "    \n",
        "    # Detele the NaN divisions if any\n",
        "    results_df['norm_freq_occurr'][results_df['norm_freq_occurr'].isnull()] = 0.0\n",
        "    \n",
        "    print('Done!')\n",
        "    \n",
        "    return results_df\n"
      ],
      "execution_count": null,
      "outputs": []
    },
    {
      "cell_type": "code",
      "metadata": {
        "id": "_dfb77rkdKbZ",
        "colab": {
          "base_uri": "https://localhost:8080/",
          "height": 267
        },
        "outputId": "670b54f7-da66-466e-e3e6-e9cc7bb5758d"
      },
      "source": [
        "# Build the Resulting Monthly Time Series\n",
        "results_df = get_monthly_results(articles_df, start_year, end_year)\n",
        "results_df.head()"
      ],
      "execution_count": null,
      "outputs": [
        {
          "output_type": "stream",
          "name": "stdout",
          "text": [
            "Arranging results monthly into a new dataframe...\n",
            "Done!\n"
          ]
        },
        {
          "output_type": "execute_result",
          "data": {
            "text/html": [
              "<div>\n",
              "<style scoped>\n",
              "    .dataframe tbody tr th:only-of-type {\n",
              "        vertical-align: middle;\n",
              "    }\n",
              "\n",
              "    .dataframe tbody tr th {\n",
              "        vertical-align: top;\n",
              "    }\n",
              "\n",
              "    .dataframe thead th {\n",
              "        text-align: right;\n",
              "    }\n",
              "</style>\n",
              "<table border=\"1\" class=\"dataframe\">\n",
              "  <thead>\n",
              "    <tr style=\"text-align: right;\">\n",
              "      <th></th>\n",
              "      <th>month_freq_occurr</th>\n",
              "      <th>num_articles</th>\n",
              "      <th>norm_freq_occurr</th>\n",
              "    </tr>\n",
              "    <tr>\n",
              "      <th>date</th>\n",
              "      <th></th>\n",
              "      <th></th>\n",
              "      <th></th>\n",
              "    </tr>\n",
              "  </thead>\n",
              "  <tbody>\n",
              "    <tr>\n",
              "      <th>2002-01-31</th>\n",
              "      <td>0.0</td>\n",
              "      <td>0.0</td>\n",
              "      <td>0.0</td>\n",
              "    </tr>\n",
              "    <tr>\n",
              "      <th>2002-02-28</th>\n",
              "      <td>0.0</td>\n",
              "      <td>0.0</td>\n",
              "      <td>0.0</td>\n",
              "    </tr>\n",
              "    <tr>\n",
              "      <th>2002-03-31</th>\n",
              "      <td>0.0</td>\n",
              "      <td>0.0</td>\n",
              "      <td>0.0</td>\n",
              "    </tr>\n",
              "    <tr>\n",
              "      <th>2002-04-30</th>\n",
              "      <td>0.0</td>\n",
              "      <td>0.0</td>\n",
              "      <td>0.0</td>\n",
              "    </tr>\n",
              "    <tr>\n",
              "      <th>2002-05-31</th>\n",
              "      <td>0.0</td>\n",
              "      <td>0.0</td>\n",
              "      <td>0.0</td>\n",
              "    </tr>\n",
              "  </tbody>\n",
              "</table>\n",
              "</div>"
            ],
            "text/plain": [
              "            month_freq_occurr  num_articles  norm_freq_occurr\n",
              "date                                                         \n",
              "2002-01-31                0.0           0.0               0.0\n",
              "2002-02-28                0.0           0.0               0.0\n",
              "2002-03-31                0.0           0.0               0.0\n",
              "2002-04-30                0.0           0.0               0.0\n",
              "2002-05-31                0.0           0.0               0.0"
            ]
          },
          "metadata": {},
          "execution_count": 111
        }
      ]
    },
    {
      "cell_type": "code",
      "metadata": {
        "id": "1w-pDNlzcK48"
      },
      "source": [
        "def visualize_results(results_df, start_year, end_year, dictionary):\n",
        "    \n",
        "    # Print on Jupyter Notebook\n",
        "    get_ipython().magic(u'matplotlib inline')\n",
        "    \n",
        "    # Define plot properties\n",
        "    plot_title = 'Results for Dictionary: \"' + dictionary + '\" in '  + ' from Jan ' + str(start_year) + ' to Dec ' + str(end_year)\n",
        "    results_df.norm_freq_occurr.plot(legend = True, label = 'Monthly Normalized Frequency of Occurrence', \n",
        "                                        figsize = (15, 5), title = plot_title)\n",
        "    results_df.num_articles.plot(secondary_y = True, style = 'g',\n",
        "                                    label = 'Articles Published', legend = True)"
      ],
      "execution_count": null,
      "outputs": []
    },
    {
      "cell_type": "code",
      "metadata": {
        "id": "JDwKysIkcRw1",
        "colab": {
          "base_uri": "https://localhost:8080/",
          "height": 350
        },
        "outputId": "a93a53ab-2abd-42aa-fffb-6245acc8e87d"
      },
      "source": [
        "# Visualize Results\n",
        "visualize_results(results_df, start_year, end_year, dictionary)"
      ],
      "execution_count": null,
      "outputs": [
        {
          "output_type": "display_data",
          "data": {
            "image/png": "[encoded data removed]",
            "text/plain": [
              "<Figure size 1080x360 with 2 Axes>"
            ]
          },
          "metadata": {
            "needs_background": "light"
          }
        }
      ]
    },
    {
      "cell_type": "code",
      "metadata": {
        "id": "kFHOqJ3ddQLx"
      },
      "source": [
        "results_df.to_excel(\"output2000-2020.xlsx\")  "
      ],
      "execution_count": null,
      "outputs": []
    }
  ]
}